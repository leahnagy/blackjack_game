{
 "cells": [
  {
   "cell_type": "markdown",
   "metadata": {
    "cell_id": "161cc5d2-b455-4ce7-803d-ce83cbf85e30",
    "deepnote_cell_height": 1064.90625,
    "deepnote_cell_type": "markdown",
    "id": "bmaTXbql8VCz"
   },
   "source": [
    "Blackjack \n",
    "======\n",
    "\n",
    "MVP\n",
    "----\n",
    "\n",
    "This code implements a one round game of blackjack where there are two possible strategies:\n",
    "1. **Conventional** = Hit if score is below 16\n",
    "2. **Heavy Hitting** = Hit if score is below 18\n",
    "\n",
    "*One thing to note that is different than a typical game of blackjack, is that Aces are only worth 11 points in this game*. "
   ]
  },
  {
   "cell_type": "markdown",
   "metadata": {
    "cell_id": "2081a2b96d514854a5f5b25588ebdcb7",
    "deepnote_cell_height": 82.78125,
    "deepnote_cell_type": "markdown",
    "tags": []
   },
   "source": [
    "Implement game\n",
    "---------"
   ]
  },
  {
   "cell_type": "code",
   "execution_count": 1,
   "metadata": {
    "cell_id": "00003-268b294f-10d4-4a5f-b3f2-3b135be198c8",
    "deepnote_cell_height": 99,
    "deepnote_cell_type": "code",
    "deepnote_to_be_reexecuted": false,
    "execution_millis": 48,
    "execution_start": 1652814668625,
    "id": "a3eDRV46DSVv",
    "source_hash": "166acdcd"
   },
   "outputs": [],
   "source": [
    "# These are Python Standard Library modules you'll use later \n",
    "import random"
   ]
  },
  {
   "cell_type": "markdown",
   "metadata": {
    "cell_id": "514e0462d75b4939a9184360ca759afd",
    "deepnote_cell_height": 833.953125,
    "deepnote_cell_type": "markdown",
    "owner_user_id": "b6ea0c1b-6567-4a6a-b916-7010d44cecee",
    "tags": []
   },
   "source": [
    "Define the deck of cards as a list of strings. Each string will be single card with a rank and suit.\n",
    "\n",
    "Here are examples:\n",
    "- `A♠` for Ace of Spades\n",
    "- `Q♥` for Queen of Hearts  \n",
    "- `7◆` for 7 of Diamonds\n",
    "- `⒑♣` for 10 of Clubs\n",
    "\n",
    "Note - `⒑` is a single character. You should copy and paste that character into your code. Having the concept 10 represented as a single character keeps the slicing consistent for all ranks. \n",
    "\n",
    "The deck should be shuffled (i.e., the cards will appear in random order)."
   ]
  },
  {
   "cell_type": "code",
   "execution_count": 2,
   "metadata": {
    "cell_id": "00004-18dfccf4-0177-4b01-ab3b-d392715b38fb",
    "deepnote_cell_height": 504.34375,
    "deepnote_cell_type": "code",
    "deepnote_to_be_reexecuted": false,
    "execution_millis": 96,
    "execution_start": 1652814668674,
    "id": "kuy-wLJCDSVv",
    "source_hash": "6bb5f7d"
   },
   "outputs": [],
   "source": [
    "# list of all possible card values\n",
    "values = [\"2\", \"3\", \"4\", \"5\", \"6\", \"7\", \"8\", \"9\", \"⒑\", \"J\",\n",
    "          \"Q\", \"K\", \"A\"]\n",
    "\n",
    "# list of all possible card suits\n",
    "suits = [\"♠\", \"♣\", \"♥\", \"◆\"]\n",
    "\n",
    "def define_deck():\n",
    "    \"\"\"function to create a full deck of cards - combine all values with all \n",
    "    suits and shuffle deck\"\"\"\n",
    "    deck = []\n",
    "    \n",
    "    for v in values:\n",
    "        for s in suits:\n",
    "            deck.append(v + s)\n",
    "    random.shuffle(deck)\n",
    "    return deck\n",
    "    \n",
    "\n",
    "# A set of tests to check if the code you wrote is correct \n",
    "# Test deck\n",
    "deck = define_deck()\n",
    "assert len(deck) == 52\n",
    "assert type(deck) == list\n",
    "assert [type(card) == str for card in deck]\n",
    "assert [len(card)  == 2   for card in deck]\n",
    "\n",
    "# Test that deck is shuffled \n",
    "deck_1 = define_deck()\n",
    "deck_2 = define_deck()\n",
    "assert deck_1 != deck_2 # There is a very small chance this would fail by mistake."
   ]
  },
  {
   "cell_type": "markdown",
   "metadata": {
    "cell_id": "ded21ff41b814be1a339306b1039463a",
    "deepnote_cell_height": 514.25,
    "deepnote_cell_type": "markdown",
    "tags": []
   },
   "source": [
    "Complete the following function that creates the points for each card. The data structure should be a dictionary where each key is a card and the value is the points for the card. \n",
    "\n",
    "Numbered cards worth their numerical value (i.e., a `2` is worth 2 points).  Face cards are worth 10 points.  To simplify, assume an ace is always worth 11 points."
   ]
  },
  {
   "cell_type": "code",
   "execution_count": 3,
   "metadata": {
    "cell_id": "00005-25f5c735-b3a5-4ac5-9188-8c1d86858546",
    "deepnote_cell_height": 279,
    "deepnote_cell_type": "code",
    "deepnote_to_be_reexecuted": true,
    "execution_millis": 12,
    "execution_start": 1652464494487,
    "id": "u2ws3VGn-AeA",
    "source_hash": "13570b30"
   },
   "outputs": [],
   "source": [
    "def assign_points(deck):\n",
    "    \"\"\"Function that assigns point values for each card based on the numerical value,\n",
    "    Face cards = 10, Aces = 11\"\"\"\n",
    "    card_points = {}\n",
    "    number = [i for i in range(2, 10)]\n",
    "    for card in deck:\n",
    "        if card[0] in str(number):\n",
    "            card_points[card[0]] = int(card[0])\n",
    "        elif (card[0] == 'J') | (card[0] == 'Q') | (card[0] == 'K') | (card[0] == '⒑'):\n",
    "            card_points[card[0]] = 10\n",
    "        elif card[0] == 'A':\n",
    "            card_points[card[0]] = 11\n",
    "    return card_points\n",
    "\n",
    "# Test point mapping\n",
    "point_mapping = assign_points(deck)\n",
    "assert type(point_mapping) == dict\n",
    "for number in range(2, 10):\n",
    "    assert [number == value for key, value in point_mapping.items() if key.startswith(str(number))]\n",
    "assert [number == 11 for key, value in point_mapping.items() if key.startswith(\"A\")]\n",
    "for letter in '⒑JQK':\n",
    "    assert [number == 10 for key, value in point_mapping.items() if key.startswith(letter)]"
   ]
  },
  {
   "cell_type": "markdown",
   "metadata": {
    "cell_id": "922978c40648463fbb2804c055c9e1a2",
    "deepnote_cell_height": 253.921875,
    "deepnote_cell_type": "markdown",
    "tags": []
   },
   "source": [
    "Complete the following function that deals a single card from the current deck. If there are no more cards in the deck, call define_deck() to create a new deck."
   ]
  },
  {
   "cell_type": "code",
   "execution_count": 4,
   "metadata": {
    "cell_id": "00006-c944013b-dccf-4d8d-993b-d35766367f36",
    "deepnote_cell_height": 333,
    "deepnote_cell_type": "code",
    "deepnote_to_be_reexecuted": true,
    "execution_millis": 0,
    "execution_start": 1652464494500,
    "id": "ntfDWxMcDSVw",
    "source_hash": "a06c508b"
   },
   "outputs": [],
   "source": [
    "def deal_card(deck):\n",
    "    \"\"\"Function to deal a single card, if there are 0 cards in the deck, shuffle deck\n",
    "    by calling define_deck function\"\"\"\n",
    "    if len(deck) == 0:\n",
    "        deck = define_deck()\n",
    "    card = deck.pop(0)\n",
    "    return card, deck\n",
    "\n",
    "# Tests\n",
    "deck = define_deck()\n",
    "assert len(deck) == 52\n",
    "card, deck = deal_card(deck)\n",
    "assert len(card) == 2\n",
    "assert len(deck) == 51\n",
    "\n",
    "# Test for creating new decks\n",
    "deck = define_deck()\n",
    "for _ in range(10_000):\n",
    "    card, deck = deal_card(deck)"
   ]
  },
  {
   "cell_type": "markdown",
   "metadata": {
    "cell_id": "406bc4ae77c843da8c25d894168b5ae9",
    "deepnote_cell_height": 186.75,
    "deepnote_cell_type": "markdown",
    "tags": []
   },
   "source": [
    "Complete the following function that deals the initial hand of 2 cards to both the player and the house."
   ]
  },
  {
   "cell_type": "code",
   "execution_count": 5,
   "metadata": {
    "cell_id": "00007-2ade9538-2ea6-4c17-880f-2f4c7064648d",
    "deepnote_cell_height": 261,
    "deepnote_cell_type": "code",
    "deepnote_to_be_reexecuted": true,
    "execution_millis": 0,
    "execution_start": 1652464494507,
    "id": "oQ8xQkNoDSVw",
    "source_hash": "6d26b193"
   },
   "outputs": [],
   "source": [
    "def deal_initial_hands(deck):\n",
    "    \"\"\"Function to deal 2 cards to the player and the house\"\"\"\n",
    "    player_hand = []\n",
    "    house_hand = []\n",
    "    while len(player_hand) <= 1:\n",
    "        player_hand.append(deck.pop(0))\n",
    "        house_hand.append(deck.pop(0))\n",
    "    return player_hand, house_hand, deck    \n",
    "\n",
    "# Tests\n",
    "deck = define_deck()\n",
    "assert len(deck) == 52\n",
    "player_hand, house_hand, deck = deal_initial_hands(deck)\n",
    "assert len(player_hand) ==  2\n",
    "assert len(house_hand)  ==  2\n",
    "assert len(deck)        == 48"
   ]
  },
  {
   "cell_type": "markdown",
   "metadata": {
    "cell_id": "4c25e63758cf4d528569ef392bc56172",
    "deepnote_cell_height": 141.953125,
    "deepnote_cell_type": "markdown",
    "tags": []
   },
   "source": [
    "Complete the following function that sums up the points in the current hand."
   ]
  },
  {
   "cell_type": "code",
   "execution_count": 6,
   "metadata": {
    "cell_id": "00008-c91b56cf-1fd7-4e63-af6a-b3e26d77187c",
    "deepnote_cell_height": 341.15625,
    "deepnote_cell_type": "code",
    "deepnote_to_be_reexecuted": true,
    "execution_millis": 379,
    "execution_start": 1652814278777,
    "id": "W4NDFS1ODSVx",
    "source_hash": "fd3822b6"
   },
   "outputs": [],
   "source": [
    "def current_score(hand, point_mapping):\n",
    "    \"\"\"Function to score the current hand\"\"\"\n",
    "    hand_score = 0\n",
    "    for card in hand:\n",
    "        hand_score += point_mapping[card[0]]\n",
    "    return hand_score\n",
    "\n",
    "# Tests\n",
    "hand=['J♠', '5♥']\n",
    "assert type(current_score(hand, point_mapping)) == int\n",
    "assert current_score(hand, point_mapping) == 15"
   ]
  },
  {
   "cell_type": "markdown",
   "metadata": {
    "cell_id": "64dceae988034a51914575954ac1e3dc",
    "deepnote_cell_height": 612.421875,
    "deepnote_cell_type": "markdown",
    "tags": []
   },
   "source": [
    "Complete the following function that implements the computer's strategry.\n",
    "\n",
    "You are required to implement two strategies:\n",
    "1. conventional - Hit if the sum of the current hand is less than 16.\n",
    "2. heavy_hitter - Hit if the sum of the current hand is less than 18.\n",
    "\n",
    "Update `hiting_status`, if the agent is going to hold (aka, not take any more cards) on subsequent rounds."
   ]
  },
  {
   "cell_type": "code",
   "execution_count": 7,
   "metadata": {
    "cell_id": "00009-e7047924-6056-40bd-9296-0fc8dc9b6e05",
    "deepnote_cell_height": 387,
    "deepnote_cell_type": "code",
    "deepnote_to_be_reexecuted": true,
    "execution_millis": 0,
    "execution_start": 1652464494528,
    "id": "eMKnpv-7DSVx",
    "source_hash": "19f976be"
   },
   "outputs": [],
   "source": [
    "def apply_strategy(hand, hitting_status, current_strategy='conventional'):\n",
    "    \"\"\"Function to define and implement two strategies\"\"\"\n",
    "    hand_score = current_score(hand, point_mapping)\n",
    "    # Conventional, hitting\n",
    "    if (current_strategy == 'conventional') & (hand_score < 16):\n",
    "        hitting_status = True\n",
    "        return ('hit', hitting_status)\n",
    "    # Conventional, holding\n",
    "    elif (current_strategy == 'conventional') & (hand_score >= 16):\n",
    "        hitting_status = False\n",
    "        return ('hold', hitting_status)\n",
    "    # Heavy, hitting\n",
    "    elif (current_strategy == 'heavy_hitter') & (hand_score < 18):\n",
    "        hitting_status = True\n",
    "        return ('hit', hitting_status)\n",
    "    # Heavy, holding\n",
    "    elif (current_strategy == 'heavy_hitter') & (hand_score >= 18):\n",
    "        hitting_status = False\n",
    "        return ('hold', hitting_status)\n",
    "# Tests\n",
    "\n",
    "# Test conventional strategy \n",
    "assert apply_strategy(hand=['J♠', '5♥'], hitting_status=True, current_strategy='conventional') == ('hit',  True)\n",
    "assert apply_strategy(hand=['J♠', '6♥'], hitting_status=True, current_strategy='conventional') == ('hold', False)\n",
    "assert apply_strategy(hand=['J♠', '7♥'], hitting_status=True, current_strategy='conventional') == ('hold', False)\n",
    "assert apply_strategy(hand=['J♠', '8♥'], hitting_status=True, current_strategy='conventional') == ('hold', False)\n",
    "\n",
    "# Test heavy hitter strategy \n",
    "assert apply_strategy(hand=['J♠', '5♥'], hitting_status=True, current_strategy='heavy_hitter') == ('hit',  True)\n",
    "assert apply_strategy(hand=['J♠', '6♥'], hitting_status=True, current_strategy='heavy_hitter') == ('hit',  True)\n",
    "assert apply_strategy(hand=['J♠', '7♥'], hitting_status=True, current_strategy='heavy_hitter') == ('hit',  True)\n",
    "assert apply_strategy(hand=['J♠', '8♥'], hitting_status=True, current_strategy='heavy_hitter') == ('hold', False)"
   ]
  },
  {
   "cell_type": "markdown",
   "metadata": {
    "cell_id": "f6b3fec38a1f4159b7957c099d221761",
    "deepnote_cell_height": 141.953125,
    "deepnote_cell_type": "markdown",
    "tags": []
   },
   "source": [
    "The follwing function is given for you, there is no code for you to write in this cell."
   ]
  },
  {
   "cell_type": "code",
   "execution_count": 8,
   "metadata": {
    "cell_id": "00010-eab41a6b-e702-467b-ae08-8dbf580a5cde",
    "code_folding": [
     0
    ],
    "deepnote_cell_height": 135,
    "deepnote_cell_type": "code",
    "deepnote_to_be_reexecuted": true,
    "execution_millis": 0,
    "execution_start": 1652464494536,
    "id": "4GzlLJ6DDSVx",
    "source_hash": "39f27637"
   },
   "outputs": [],
   "source": [
    "def display_hands(player_hand, house_hand):\n",
    "    # Function to display hand and scores for both agents\n",
    "    print(f\"Player's score: {current_score(player_hand, point_mapping):2} \\t Player's hand: {player_hand}\")\n",
    "    print(f\"House's score:  {current_score(house_hand, point_mapping):2} \\t House's hand:  {house_hand}\")\n",
    "    print()"
   ]
  },
  {
   "cell_type": "markdown",
   "metadata": {
    "cell_id": "b62fc65669f1414f91432be7c80a3219",
    "deepnote_cell_type": "markdown",
    "tags": []
   },
   "source": [
    "Complete the following function that checks what is going on with each agent's hand.\n",
    "\n",
    "Part of the logic is already given to you. Each line/part that requires you to write code is labeled with a `# TODO: `"
   ]
  },
  {
   "cell_type": "code",
   "execution_count": 145,
   "metadata": {},
   "outputs": [],
   "source": [
    "def check_hands(player_hand, player_hitting, house_hand, house_hitting, keep_playing=True):\n",
    "    \n",
    "    # Set defaults\n",
    "    winner = None \n",
    "    keep_playing = True\n",
    "    \n",
    "    player_score = current_score(player_hand, point_mapping)\n",
    "    house_score = current_score(house_hand, point_mapping)\n",
    "    \n",
    "    # Check for Blackjack(s)\n",
    "    if (house_score == 21) & (player_score == 21):\n",
    "        winner = 'tie'\n",
    "        keep_playing = False\n",
    "        \n",
    "    elif (house_score == 21) & (player_score != 21) & (player_hitting == False):\n",
    "        winner = 'house'\n",
    "        keep_playing = False\n",
    "        \n",
    "    elif (player_score == 21) & (house_score != 21) & (house_hitting == False):\n",
    "        winner = 'player'\n",
    "        keep_playing = False\n",
    "        \n",
    "    # Check for going bust\n",
    "    elif (player_score > 21) & (house_score <= 21):\n",
    "        winner = 'house'\n",
    "        keep_playing = False\n",
    "    elif (player_score <= 21) & (house_score > 21):\n",
    "        winner = 'player'\n",
    "        keep_playing = False\n",
    "        \n",
    "        \n",
    "    # Check for player(s) holding\n",
    "    elif (player_hitting == False) & (house_hitting == False) & (house_score > player_score):\n",
    "        winner = 'house'\n",
    "        keep_playing = False\n",
    "    elif (player_hitting == False) & (house_hitting == False) & (player_score > house_score):\n",
    "        winner = 'player'\n",
    "        keep_playing = False\n",
    "\n",
    "    # Check for tie \n",
    "    elif (player_hitting == False) & (house_hitting == False) & (house_score == player_score):\n",
    "        winner = 'tie'\n",
    "        keep_playing = False\n",
    "        \n",
    "    elif (player_score > 21) & (house_score > 21):\n",
    "        winner = 'tie'\n",
    "        keep_playing = False\n",
    "    \n",
    "    return winner, keep_playing\n",
    "\n",
    "# Tests\n",
    "\n",
    "# Check for Blackjack(s)\n",
    "assert check_hands(player_hand=['A♠', 'Q♠'], player_hitting=False, house_hand=['A♥', 'Q♥'], house_hitting=False) == ('tie', False)\n",
    "assert check_hands(player_hand=['A♠', 'Q♥'], player_hitting=False, house_hand=['J♠', 'Q♠'], house_hitting=False) == ('player', False)\n",
    "assert check_hands(player_hand=['2♠', '2♥'], player_hitting=False, house_hand=['A♠', 'Q♥'], house_hitting=False) == ('house', False)\n",
    "\n",
    "# Check for going bust\n",
    "assert check_hands(player_hand=['A♠', 'A♥'], player_hitting=False, house_hand=['2♠', '2♥'], house_hitting=False) == ('house', False)\n",
    "assert check_hands(player_hand=['2♠', '2♥'], player_hitting=False, house_hand=['A♠', 'A♥'], house_hitting=False) == ('player', False)\n",
    "\n",
    "\n",
    "# Check for holding\n",
    "assert check_hands(player_hand=['3♠', '3♥'], player_hitting=False, house_hand=['2♠', '2♥'], house_hitting=False) == ('player', False)\n",
    "assert check_hands(player_hand=['2♠', '2♥'], player_hitting=False, house_hand=['3♠', '3♥'], house_hitting=False) == ('house', False)\n",
    "\n",
    "# Check for tie\n",
    "assert check_hands(player_hand=['2◆', '2♣'], player_hitting=False, house_hand=['2♠', '2♥'], house_hitting=False) == ('tie', False)\n"
   ]
  },
  {
   "cell_type": "markdown",
   "metadata": {
    "cell_id": "ecabed6a208247d8879c5f1d5ae277e0",
    "deepnote_cell_type": "markdown",
    "tags": []
   },
   "source": [
    "This is the game play!\n",
    "\n",
    "Part of the logic is already given to you. Each line/part that requires you to write code is labeled with a `# TODO: `"
   ]
  },
  {
   "cell_type": "code",
   "execution_count": 146,
   "metadata": {},
   "outputs": [
    {
     "name": "stdout",
     "output_type": "stream",
     "text": [
      "\n",
      "########################################\n",
      "Deal 'em up:\n",
      "\n",
      "Player's score:  9 \t Player's hand: ['7♠', '2♣']\n",
      "House's score:   9 \t House's hand:  ['4♥', '5♥']\n",
      "\n",
      "Player's score: 20 \t Player's hand: ['7♠', '2♣', 'A♠']\n",
      "House's score:  19 \t House's hand:  ['4♥', '5♥', 'J◆']\n",
      "\n"
     ]
    },
    {
     "data": {
      "text/plain": [
       "('player', 'End of game')"
      ]
     },
     "execution_count": 146,
     "metadata": {},
     "output_type": "execute_result"
    }
   ],
   "source": [
    "def simulate_hand(player_strategy, house_strategy, verbose=True):\n",
    "   \n",
    "    # Setup game \n",
    "    if verbose:\n",
    "        print()\n",
    "        print(\"#\"*40)\n",
    "        print(\"Deal 'em up:\")\n",
    "        print()\n",
    "    \n",
    "    # create card deck\n",
    "    deck = define_deck()\n",
    "    \n",
    "    # deal starting hands\n",
    "    player_hand, house_hand, deck = deal_initial_hands(deck)\n",
    "    if verbose:\n",
    "        display_hands(player_hand, house_hand) \n",
    "    player_hitting = True\n",
    "    house_hitting  = True\n",
    "             \n",
    "    # Game play\n",
    "    keep_playing = True\n",
    "    while keep_playing:\n",
    "    \n",
    "        # Check for winning / losing\n",
    "        winner, keep_playing = check_hands(player_hand, player_hitting, house_hand,\n",
    "                                           house_hitting, keep_playing)\n",
    "        if keep_playing == False:\n",
    "            display_hands(player_hand, house_hand)\n",
    "            return winner, 'End of game'\n",
    "        \n",
    "        ### Player turn ###\n",
    "        \n",
    "        # Determine player's action\n",
    "        action, player_hitting = apply_strategy(player_hand, player_hitting, player_strategy) \n",
    "        \n",
    "        # hitting\n",
    "        while action == 'hit':\n",
    "            player_hand.append(deal_card(deck)[0])\n",
    "            action, player_hitting = apply_strategy(player_hand, player_hitting, player_strategy)\n",
    "            if action == 'hold':\n",
    "                break\n",
    "           \n",
    "        ### House turn ###\n",
    "        action, house_hitting = apply_strategy(house_hand, house_hitting, house_strategy)\n",
    "        \n",
    "        # hitting\n",
    "        while action == 'hit':\n",
    "            house_hand.append(deal_card(deck)[0])\n",
    "            action, house_hitting = apply_strategy(house_hand, house_hitting, house_strategy)\n",
    "            if action == 'hold':\n",
    "                break\n",
    "        \n",
    "        # Check for end of hand    \n",
    "        if keep_playing == False:\n",
    "            display_hands(player_hand, house_hand)\n",
    "            return winner, 'End of game'\n",
    "\n",
    "# Play a single hand\n",
    "simulate_hand(player_strategy='heavy_hitter', house_strategy='conventional', verbose=True)"
   ]
  }
 ],
 "metadata": {
  "colab": {
   "collapsed_sections": [],
   "name": "blackjack_solutions.ipynb",
   "provenance": []
  },
  "deepnote": {},
  "deepnote_execution_queue": [],
  "deepnote_notebook_id": "85845ca9-20e0-4c24-a96e-30ddfa66da9f",
  "kernelspec": {
   "display_name": "Python 3 (ipykernel)",
   "language": "python",
   "name": "python3"
  },
  "language_info": {
   "codemirror_mode": {
    "name": "ipython",
    "version": 3
   },
   "file_extension": ".py",
   "mimetype": "text/x-python",
   "name": "python",
   "nbconvert_exporter": "python",
   "pygments_lexer": "ipython3",
   "version": "3.9.12"
  }
 },
 "nbformat": 4,
 "nbformat_minor": 4
}
